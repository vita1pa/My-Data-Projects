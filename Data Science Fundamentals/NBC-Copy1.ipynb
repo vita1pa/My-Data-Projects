{
 "cells": [
  {
   "cell_type": "markdown",
   "metadata": {
    "id": "lti3WORYZsmK"
   },
   "source": [
    "# Naive Bayes Classifier\n",
    "\n",
    "Welcome to your next lab! You will build Naive Bayes Classifier.\n",
    "\n",
    "You will classify spam/ham messages.\n",
    "\n",
    "**You will learn to:**\n",
    "- Build the general architecture of a learning algorithm with OOP in mind:\n",
    "    - Helper functions\n",
    "        - Preprocessing data\n",
    "    - Main Model Class\n",
    "        - Training\n",
    "        - Prediction \n"
   ]
  },
  {
   "cell_type": "markdown",
   "metadata": {
    "id": "F86OV8dwZsmL"
   },
   "source": [
    "## 1 - Packages ##\n",
    "\n",
    "First, let's run the cell below to import all the packages that you will need during this assignment.\n",
    "- [numpy](www.numpy.org) is the fundamental package for scientific computing with Python.\n",
    "- [pandas](https://pandas.pydata.org/) is a library providing a convenient work with data.\n",
    "- [re](https://docs.python.org/3/library/re.html) is for regex"
   ]
  },
  {
   "cell_type": "code",
   "execution_count": 336,
   "metadata": {
    "id": "eEoj1DOwZsmM"
   },
   "outputs": [],
   "source": [
    "import pandas as pd\n",
    "import numpy as np\n",
    "import re"
   ]
  },
  {
   "cell_type": "markdown",
   "metadata": {
    "id": "b5Wy6bYpZsmO"
   },
   "source": [
    "## 2 - Overview of the Problem set ##\n",
    "\n",
    "**Problem Statement**: You are given a dataset  containing:\n",
    "    - a training set of m_train examples\n",
    "    - a test set of m_test examples\n",
    "    - each example is a message that belongs to a particular class: ham or spam.\n",
    "\n",
    "Let's get more familiar with the dataset. Load the data by running the following code.\n",
    "\n",
    "We won't divide our data to features(X) and target(Y) here, because we need to preprocess it in a special way."
   ]
  },
  {
   "cell_type": "code",
   "execution_count": 337,
   "metadata": {
    "id": "DtUaewx1ZsmP"
   },
   "outputs": [],
   "source": [
    "# Loading the data \n",
    "\n",
    "def load_data():\n",
    "    df = pd.read_csv('spam.csv', encoding='latin-1')\n",
    "    df_for_tests = df.head()\n",
    "    \n",
    "    idx = np.arange(df.shape[0])\n",
    "    np.random.shuffle(idx)\n",
    "\n",
    "    train_set_size = int(df.shape[0] * 0.8)\n",
    "\n",
    "    train_set = df.loc[idx[:train_set_size]]\n",
    "    test_set = df.loc[idx[train_set_size:]]\n",
    "    \n",
    "    return train_set, test_set, df_for_tests"
   ]
  },
  {
   "cell_type": "code",
   "execution_count": 338,
   "metadata": {
    "id": "ae4YTbLtZsmR"
   },
   "outputs": [],
   "source": [
    "train_set, test_set, df_for_tests = load_data()"
   ]
  },
  {
   "cell_type": "markdown",
   "metadata": {
    "id": "8fxIXA7FZsmU"
   },
   "source": [
    "## 3 - Naive Bayes Classifier\n",
    "**Mathematical expression of the algorithm**:\n",
    "\n",
    "\n",
    "This algorithm is based on Bayes' theorem:\n",
    "    \\begin{equation}\n",
    "    P(A_{j}\\hspace{0.1cm}\\rvert\\hspace{0.1cm}x_{1},\\dots,x_{n}) = \\frac{P(x_{1},\\dots,x_{n}\\hspace{0.1cm}\\rvert\\hspace{0.1cm}A_{j})P(A_{j})}{P(x_{1},\\dots,x_{n})} \n",
    "    \\end{equation}\n",
    "    \n",
    "Ignoring denominator (because it stays the same for all cases):\n",
    "\n",
    "$$ \\begin{equation}\n",
    "    P(A_{j})P(x_{1},\\dots,x_{n}\\hspace{0.1cm}\\rvert\\hspace{0.1cm}A_{j}) = P(A_{j}, x_{1},\\dots,x_{n}) = \\\\\n",
    "  \\hspace{1cm} = P(x_{1}\\hspace{0.1cm}\\rvert\\hspace{0.1cm}x_{2},\\dots,x_{n}, A_{j})P(x_{2}\\hspace{0.1cm}\\rvert\\hspace{0.1cm}x_{3}, \\dots ,x_{n}, A_{j})\\dots P(x_{n-1}\\hspace{0.1cm}\\rvert\\hspace{0.1cm}x_{n}, A_{j}) \\approx \\\\\n",
    "  \\hspace{1cm}\n",
    "  \\end{equation}$$\n",
    "By making an assumption that the $x_{i}$ are conditionally independent of each other:\n",
    "$$ \\begin{equation} \\approx P(A_{j}) \\prod_{i=1}^{n} P(x_{i}\\hspace{0.1cm}\\rvert\\hspace{0.1cm}A_{j})\n",
    "   \\end{equation}$$\n",
    "   \n",
    "We can calculate the probability, if we know the prior probability:\n",
    "\n",
    "$$ \\begin{equation}\n",
    "    y^{*} = \\operatorname*{arg\\,max}_{j} \\big(P(A_{j}) \\prod_{i=1}^{n} P(x_{i}\\hspace{0.1cm}\\rvert\\hspace{0.1cm}A_{j})\\big)\n",
    "   \\end{equation}$$\n",
    "   \n",
    "   \n",
    "Due to floating point underflow, the above is usually replaced with the numerically tractable expression:\n",
    "\n",
    "$$ \\begin{equation}\n",
    "    y^{*} = \\operatorname*{arg\\,max}_{j} \\big( \\ln(P(A_{j})) + \\sum_{i=1}^{n} \\ln(P(x_{i}\\hspace{0.1cm}\\rvert\\hspace{0.1cm}A_{j})) \\big)\n",
    "   \\end{equation}$$\n",
    "   \n",
    "For more consistent knowledge of the NBC algorithm, we highly recommend you to read [this Stanford University article](https://web.stanford.edu/~jurafsky/slp3/4.pdf)   \n",
    "   \n",
    "#### Laplace smoothing\n",
    "\n",
    "In statistics, additive smoothing, also called Laplace smoothing, or Lidstone smoothing, is a technique that is used to smooth categorical data. Given an observation \n",
    "$\\begin{equation}\n",
    "    x = (x_{1}\\, \\dots \\,x_{k})\n",
    " \\end{equation}$ from a multinomial distribution with N trials, a \"smoothed\" version of the data gives the estimator:\n",
    "\n",
    "$$ \\begin{equation}\n",
    "    \\theta_i = \\frac{x_{i} + \\alpha}{N + \\alpha k}\n",
    "   \\end{equation}$$\n",
    "\n",
    "where the pseudocount \n",
    "$\\begin{equation}\n",
    "    \\alpha > 0\n",
    " \\end{equation}$ is the smoothing parameter (\n",
    "$\\begin{equation}\n",
    "    \\alpha = 0\n",
    " \\end{equation}$ corresponds to no smoothing)."
   ]
  },
  {
   "cell_type": "markdown",
   "metadata": {
    "id": "G9mF4dTVZsmU"
   },
   "source": [
    "### 3.1 - Preprocessing the data \n",
    "\n",
    "Our data consists of different messages. Messages contain some excess symbols, which don't affect the content of the text, but add noise to the data.\n",
    "For example: \"Does not \\\\operate 66.7 after  & lt;# & gt;  or what\". \n",
    "\n",
    "Let's clean our data and leave only letters a-z, A-Z, numbers 0-9 and cast all letters to lowercase, replace double to n spaces with just one space, remove trailing spaces."
   ]
  },
  {
   "cell_type": "code",
   "execution_count": 339,
   "metadata": {
    "id": "OZDyrOMZZsmV"
   },
   "outputs": [],
   "source": [
    "# Clean the data\n",
    "\n",
    "def clean_data(message):\n",
    "    \n",
    "    \"\"\" \n",
    "    Returns string which consists of message words\n",
    "    \n",
    "    Argument:\n",
    "    message -- message from dataset; \n",
    "        type(message) -> <class 'str'>\n",
    "    \n",
    "    Returns:\n",
    "    result -- cleaned message, which contains only letters a-z, and numbers 0-9, with only one space between words;\n",
    "        type(clean_data(message)) -> <class 'str'>\n",
    "    \n",
    "    \"\"\"\n",
    "    \n",
    "    ### START CODE HERE ###\n",
    "    reg = re.sub(r'[^A-Za-z0-9 ]', ' ', message)\n",
    "    reg = re.sub(r'\\s+$', '', reg)\n",
    "    reg = reg.lower()\n",
    "    reg = reg.split()\n",
    "    return ' '.join(reg)\n",
    "\n",
    "    ### END CODE HERE ###"
   ]
  },
  {
   "cell_type": "code",
   "execution_count": 340,
   "metadata": {
    "colab": {
     "base_uri": "https://localhost:8080/"
    },
    "id": "r96K1BnlZsmX",
    "outputId": "f6e8b873-733c-4d3e-8a89-d15b555bed1d"
   },
   "outputs": [
    {
     "name": "stdout",
     "output_type": "stream",
     "text": [
      "cleaned:  doesn t get how to operate 66 7 after it lt gt won t or what\n",
      "cleaned:  o k lar7i double check wif da hair dresser already he said 77 88 5 wun cut v short question std txt rate t c s\n"
     ]
    }
   ],
   "source": [
    "sentence_1 = 'Doesn\\'t get, how{to}% \\\\operate+66.7 :after[it]\"\" & lt;# & gt; won\\'t `or(what)'\n",
    "sentence_2 = 'O\\]k,.lar7i$double{} check wif*& da! hair: [dresser;   ..already He SaID-77.88.5 wun cut v short question(std txt rate)T&C\\'s'\n",
    "print('cleaned: ',clean_data(sentence_1))\n",
    "print('cleaned: ',clean_data(sentence_2))"
   ]
  },
  {
   "cell_type": "markdown",
   "metadata": {
    "id": "t-A6HAOtZsmY"
   },
   "source": [
    "**Expected Output**: \n",
    "\n",
    "<table style=\"width:70%\">\n",
    "    <tr>\n",
    "        <td><b>cleaned:</b></td>\n",
    "       <td> doesn t get how to operate 66 7 after it lt gt won t or what </td>\n",
    "    </tr>\n",
    "    <tr>\n",
    "        <td><b>cleaned:</b></td>\n",
    "       <td> o k lar7i double check wif da hair dresser already he said 77 88 5 wun cut v short question std txt rate t c s </td>\n",
    "    </tr>\n",
    "    \n",
    "\n",
    "</table>"
   ]
  },
  {
   "cell_type": "markdown",
   "metadata": {
    "id": "JsLYrKmtZsmZ"
   },
   "source": [
    "Now let's clean each sentence and split data on features(X) and target(Y)"
   ]
  },
  {
   "cell_type": "code",
   "execution_count": 341,
   "metadata": {
    "id": "gEFD2wuFZsma"
   },
   "outputs": [],
   "source": [
    "# Preparation data for model\n",
    "\n",
    "def prep_for_model(train_set, test_set):\n",
    "    \n",
    "    \"\"\" \n",
    "    Returns arrays of train/test features(words) and train/test targets(labels)\n",
    "    \n",
    "    Arguments:\n",
    "    train_set -- train dataset, which consists of train messages and labels; \n",
    "        type(train_set) -> pandas.core.frame.DataFrame\n",
    "    test_set -- test dataset, which consists of test messages and labels; \n",
    "        type(train_set) -> pandas.core.frame.DataFrame\n",
    "    \n",
    "    Returns:\n",
    "    train_set_x -- array which contains lists of words of each cleaned train message; \n",
    "        (type(train_set_x) ->numpy.ndarray[list[str]], train_set_x.shape = (num_messages,))\n",
    "    train_set_y -- array of train labels (names of classes), \n",
    "        (type(train_set_y) -> numpy.ndarray, train_set_y.shape = (num_messages,))\n",
    "    test_set_x -- array which contains lists of words of each cleaned test message;\n",
    "        (type(test_set_x) numpy.ndarray[list[str]], test_set_x.shape = (num_messages,)\n",
    "    test_set_y -- array of test labels (names of classes), \n",
    "        (type(test_set_y) -> numpy.ndarray, test_set_y.shape = (num_messages,))\n",
    "    \n",
    "    \"\"\"\n",
    "\n",
    "    ### START CODE HERE ###\n",
    "    train_set_x = train_set['v2'].apply(lambda x: clean_data(x).split()).to_numpy()\n",
    "    test_set_x = test_set['v2'].apply(lambda x: clean_data(x).split()).to_numpy()\n",
    "    \n",
    "    train_set_y = train_set['v1'].to_numpy()\n",
    "    test_set_y = test_set['v1'].to_numpy()\n",
    "    \n",
    "#     ### END CODE HERE ###\n",
    "    \n",
    "    return train_set_x, train_set_y, test_set_x, test_set_y\n",
    "\n",
    "train_set_x, train_set_y, test_set_x, test_set_y = prep_for_model(train_set, test_set)"
   ]
  },
  {
   "cell_type": "code",
   "execution_count": 342,
   "metadata": {
    "id": "bnNLInEBZsmc"
   },
   "outputs": [
    {
     "name": "stdout",
     "output_type": "stream",
     "text": [
      "ham ['go', 'until', 'jurong', 'point', 'crazy', 'available', 'only', 'in', 'bugis', 'n', 'great', 'world', 'la', 'e', 'buffet', 'cine', 'there', 'got', 'amore', 'wat']\n",
      "ham ['u', 'dun', 'say', 'so', 'early', 'hor', 'u', 'c', 'already', 'then', 'say']\n"
     ]
    }
   ],
   "source": [
    "a1, a2, b1, b2 = prep_for_model(df_for_tests.head(3), df_for_tests.tail(2))\n",
    "print(a2[0], a1[0])\n",
    "print(b2[0], b1[0])"
   ]
  },
  {
   "cell_type": "markdown",
   "metadata": {
    "id": "Gm4MoiogZsmf"
   },
   "source": [
    "**Expected Output**: \n",
    "\n",
    "<table style=\"width:40%\">\n",
    "    <tr>\n",
    "        <td><b>ham:</b></td>\n",
    "       <td> ['go', 'until', 'jurong', 'point', 'crazy', 'available', 'only', 'in', 'bugis', 'n', 'great', 'world', 'la', 'e', 'buffet', 'cine', 'there', 'got', 'amore', 'wat'] </td>\n",
    "    </tr>\n",
    "    <tr>\n",
    "        <td><b>ham:</b></td>\n",
    "       <td> ['u', 'dun', 'say', 'so', 'early', 'hor', 'u', 'c', 'already', 'then', 'say']\n",
    " </td>\n",
    "    </tr>\n",
    "\n",
    "</table>"
   ]
  },
  {
   "cell_type": "markdown",
   "metadata": {
    "id": "Hn_Ag9ZQZsmg"
   },
   "source": [
    "Now let's check words in each category"
   ]
  },
  {
   "cell_type": "code",
   "execution_count": 343,
   "metadata": {
    "id": "olXobIliZsmg"
   },
   "outputs": [],
   "source": [
    "# Check words in categories\n",
    "\n",
    "def categories_words(x_train, y_train):\n",
    "    \n",
    "    \"\"\"\n",
    "    Returns arrays of features(words) in each category and in both categories\n",
    "    \n",
    "    Arguments:\n",
    "    x_train -- array which contains lists of words of each cleaned train message; \n",
    "        (type(x_train) -> numpy.ndarray[list[str]], x_train.shape = (num_messages,))\n",
    "    \n",
    "    Returns:\n",
    "    all_words_list -- array of all words in both categories;\n",
    "        (type(all_words_list) -> numpy.ndarray[str], all_words_list.shape = (num_words,))\n",
    "    ham_words_list -- array of words in 'ham' class;\n",
    "        (type(ham_words_list) -> numpy.ndarray[str], ham_words_list.shape = (num_words,))\n",
    "    spam_words_list -- array of words in 'spam' class;\n",
    "        (type(spam_words_list) -> numpy.ndarray[str], spam_words_list.shape = (num_words,))        \n",
    "    \"\"\"\n",
    "    all_words_list = []\n",
    "    ham_words_list = []\n",
    "    spam_words_list = []\n",
    "    \n",
    "    ### START CODE HERE ###\n",
    "    all_words_list = np.concatenate(x_train, axis=0)\n",
    "    \n",
    "    for i, item in enumerate(y_train):\n",
    "        ham_words_list.append(x_train[i]) if item == 'ham' else spam_words_list.append(x_train[i])\n",
    "    \n",
    "    ham_words_list = np.concatenate(ham_words_list, axis=0).tolist()\n",
    "    spam_words_list = np.concatenate(spam_words_list, axis=0).tolist()\n",
    "    ### END CODE HERE ###\n",
    "    \n",
    "    return all_words_list, ham_words_list, spam_words_list\n",
    "\n",
    "all_words_list_a1, ham_words_list_a1, spam_words_list_a1 = categories_words(a1, a2)"
   ]
  },
  {
   "cell_type": "code",
   "execution_count": 344,
   "metadata": {
    "id": "zCkJB-7TZsmj"
   },
   "outputs": [
    {
     "name": "stdout",
     "output_type": "stream",
     "text": [
      "first five \"ham\" words of a1:  ['go', 'until', 'jurong', 'point', 'crazy']\n"
     ]
    }
   ],
   "source": [
    "print('first five \"ham\" words of a1: ', ham_words_list_a1[:5])"
   ]
  },
  {
   "cell_type": "markdown",
   "metadata": {
    "id": "phUVohsyZsmk"
   },
   "source": [
    "**Expected Output**: \n",
    "\n",
    "<table style=\"width:40%\">\n",
    "    <tr>\n",
    "        <td><b>first five \"ham\" words of a1:</b></td>\n",
    "       <td> ['go' 'until' 'jurong' 'point' 'crazy'] </td>\n",
    "    </tr>\n",
    "\n",
    "</table>"
   ]
  },
  {
   "cell_type": "markdown",
   "metadata": {
    "id": "AARnBVXGZsmk"
   },
   "source": [
    "### 3.2 Model"
   ]
  },
  {
   "cell_type": "code",
   "execution_count": 345,
   "metadata": {
    "id": "LO7_8FEKZsmm"
   },
   "outputs": [],
   "source": [
    "class Naive_Bayes(object):\n",
    "    \"\"\"\n",
    "    Parameters:\n",
    "    -----------\n",
    "    alpha: int\n",
    "        The smoothing coeficient.\n",
    "    \"\"\"\n",
    "    def __init__(self, alpha):\n",
    "        self.alpha = alpha\n",
    "        \n",
    "        self.train_set_x = None\n",
    "        self.train_set_y = None\n",
    "        \n",
    "        self.all_words_list = []\n",
    "        self.ham_words_list = []\n",
    "        self.spam_words_list = []\n",
    "        \n",
    "        self.num_ham = None\n",
    "        self.num_spam = None\n",
    "\n",
    "        self.ham_words_dict = {}\n",
    "        self.spam_words_dict = {}\n",
    "\n",
    "        self.prior_ham_prob = None\n",
    "        self.prior_spam_prob = None\n",
    "\n",
    "        #You are allowed to create new attributes and methods (but it's not a necessary)\n",
    "    \n",
    "    def fit(self, train_set_x, train_set_y):\n",
    "        \n",
    "        # Generate all_words_list, ham_words_list, spam_words_list using function 'categories_words'; \n",
    "        # Calculate probability of each word in both categories\n",
    "        # Calculate prior probability if each category  \n",
    "        ### START CODE HERE ### \n",
    "        \n",
    "        self.prior_ham_prob = np.count_nonzero(train_set_y == 'ham') / train_set_x.size\n",
    "        self.prior_spam_prob = np.count_nonzero(train_set_y == 'spam') / train_set_x.size\n",
    "        \n",
    "        self.train_set_x = train_set_x\n",
    "        self.train_set_y = train_set_y\n",
    "\n",
    "        all_words_list, ham_words_list, spam_words_list = categories_words(train_set_x, train_set_y)\n",
    "        \n",
    "        self.all_words_list = all_words_list\n",
    "        self.ham_words_list = ham_words_list\n",
    "        self.spam_words_list = spam_words_list\n",
    "        \n",
    "        self.num_ham = len(self.ham_words_list)\n",
    "        self.num_spam = len(self.spam_words_list)\n",
    "        \n",
    "        for ham_word in self.ham_words_list:\n",
    "            self.ham_words_dict[ham_word] = self.ham_words_dict.get(ham_word, 0) + 1\n",
    "            \n",
    "        for spam_word in self.spam_words_list:\n",
    "            self.spam_words_dict[spam_word] = self.spam_words_dict.get(spam_word, 0) + 1\n",
    "            \n",
    "        for key in self.ham_words_dict:\n",
    "            self.ham_words_dict[key] = (self.ham_words_dict[key] \n",
    "                + self.alpha) / (self.num_ham + len(self.ham_words_dict))\n",
    "            \n",
    "        for key in self.spam_words_dict:\n",
    "            self.spam_words_dict[key] = (self.spam_words_dict[key] \n",
    "                + self.alpha) / (self.num_spam + len(self.spam_words_dict))\n",
    "    \n",
    "    def predict(self, test_set_x):\n",
    "        prediction = []\n",
    "        for lst in test_set_x:\n",
    "            ham_prob = (self.prior_ham_prob)\n",
    "            spam_prob = (self.prior_spam_prob)\n",
    "            for word in lst:\n",
    "                ham_prob *= self.ham_words_dict.get(word, self.alpha / (self.num_ham + len(self.ham_words_dict) * self.alpha))\n",
    "                spam_prob *= self.spam_words_dict.get(word, self.alpha / (self.num_spam + len(self.spam_words_dict) * self.alpha))\n",
    "            prediction.append('ham' if ham_prob > spam_prob else 'spam')\n",
    "        return prediction"
   ]
  },
  {
   "cell_type": "markdown",
   "metadata": {
    "id": "QVU0yzP1Zsmo"
   },
   "source": [
    "## 4 - Training"
   ]
  },
  {
   "cell_type": "markdown",
   "metadata": {
    "id": "KIiilw0KZsmo"
   },
   "source": [
    "First of all, we should define a smoothing coeficient (`alpha`)."
   ]
  },
  {
   "cell_type": "code",
   "execution_count": 346,
   "metadata": {
    "id": "two70VtTZsmp"
   },
   "outputs": [],
   "source": [
    "a = 1"
   ]
  },
  {
   "cell_type": "markdown",
   "metadata": {
    "id": "F0FVH2nMZsmr"
   },
   "source": [
    "Now we can initialize our model:"
   ]
  },
  {
   "cell_type": "code",
   "execution_count": 347,
   "metadata": {
    "id": "lFOgwc0eZsmr"
   },
   "outputs": [],
   "source": [
    "model = Naive_Bayes(alpha=a)"
   ]
  },
  {
   "cell_type": "markdown",
   "metadata": {
    "id": "DBs3q36OZsmu"
   },
   "source": [
    "Let's train our model:"
   ]
  },
  {
   "cell_type": "code",
   "execution_count": 348,
   "metadata": {
    "id": "dh3_xodbZsmv"
   },
   "outputs": [],
   "source": [
    "model.fit(train_set_x, train_set_y)"
   ]
  },
  {
   "cell_type": "markdown",
   "metadata": {
    "id": "MruvACv2Zsmw"
   },
   "source": [
    "## 5 - Making predictions"
   ]
  },
  {
   "cell_type": "code",
   "execution_count": 349,
   "metadata": {
    "id": "0-zUCJU_Zsmy"
   },
   "outputs": [],
   "source": [
    "y_predictions = model.predict(test_set_x)"
   ]
  },
  {
   "cell_type": "markdown",
   "metadata": {
    "id": "FNA1wZRAZsmy"
   },
   "source": [
    "Let's calculate accuracy (accuracy of model must be >0.95):"
   ]
  },
  {
   "cell_type": "code",
   "execution_count": 350,
   "metadata": {},
   "outputs": [
    {
     "name": "stdout",
     "output_type": "stream",
     "text": [
      "0.9704035874439462\n"
     ]
    }
   ],
   "source": [
    "actual = list(test_set_y)\n",
    "accuracy = (y_predictions == test_set_y).mean()\n",
    "print(accuracy)"
   ]
  },
  {
   "cell_type": "markdown",
   "metadata": {
    "id": "7-Wk8eTRZsm1"
   },
   "source": [
    "## 6 - Conclusion\n",
    "As we can see, our model fits well the hypothesis function to the data.\n",
    "\n",
    "#### What's next:\n",
    "1. Try experimenting with the `alpha` to see how this affects the model you have built.\n",
    "2. Compare the results you have obtained with the `sklearn.naive_bayes.MultinomialNB` model.\n",
    "3. Try this model in the wild! Select your favorite dataset [here](https://www.kaggle.com/datasets?sortBy=hottest&group=public&page=1&pageSize=20&size=small&filetype=all&license=all&tagids=13303) and play with it."
   ]
  }
 ],
 "metadata": {
  "colab": {
   "collapsed_sections": [],
   "name": "Updated_NBC_5_05.ipynb",
   "provenance": []
  },
  "kernelspec": {
   "display_name": "Python 3",
   "language": "python",
   "name": "python3"
  },
  "language_info": {
   "codemirror_mode": {
    "name": "ipython",
    "version": 3
   },
   "file_extension": ".py",
   "mimetype": "text/x-python",
   "name": "python",
   "nbconvert_exporter": "python",
   "pygments_lexer": "ipython3",
   "version": "3.8.2"
  }
 },
 "nbformat": 4,
 "nbformat_minor": 1
}
